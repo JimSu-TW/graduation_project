{
 "cells": [
  {
   "cell_type": "code",
   "execution_count": 1,
   "metadata": {
    "id": "ezE3R-bLS4CC"
   },
   "outputs": [],
   "source": [
    "from selenium import webdriver\n",
    "from selenium.webdriver.common.keys import Keys\n",
    "from selenium.webdriver.common.action_chains import ActionChains\n",
    "from selenium.common.exceptions import NoSuchElementException\n",
    "from selenium.common.exceptions import StaleElementReferenceException\n",
    "from datetime import date\n",
    "from bs4 import BeautifulSoup\n",
    "import sys\n",
    "import time\n",
    "import pandas as pd"
   ]
  },
  {
   "cell_type": "code",
   "execution_count": 2,
   "metadata": {
    "id": "U14CFn9QS4CJ"
   },
   "outputs": [],
   "source": [
    "#new chrome driver\n",
    "\n",
    "from selenium import webdriver\n",
    "\n",
    "def OpenChromeDriver():\n",
    "    #開啟瀏覽器新分頁，下載google chrome driver\n",
    "    ban_notify=webdriver.ChromeOptions()\n",
    "    prefs={\"profile.default_content_setting_values.notifications\" : 2}\n",
    "    ban_notify.add_experimental_option(\"prefs\",prefs)\n",
    "    gchrome=webdriver.Chrome(options=ban_notify)\n",
    "    return gchrome\n",
    "\n",
    "def FinishedCrawler(driver):\n",
    "    driver.close()"
   ]
  },
  {
   "cell_type": "code",
   "execution_count": 3,
   "metadata": {
    "id": "VXlp_moYS4CO"
   },
   "outputs": [],
   "source": [
    "#抓取貼文留言\n",
    "\n",
    "def getPostComment(url,driver):\n",
    "    driver.get(url)\n",
    "            \n",
    "    #Get Comment       \n",
    "    soup = BeautifulSoup(driver.page_source,\"html.parser\")\n",
    "    content_all = soup.find(\"div\",itemprop=\"articleBody\")\n",
    "    FinishedCrawler(driver)\n",
    "    return content_all.get_text()"
   ]
  },
  {
   "cell_type": "code",
   "execution_count": 11,
   "metadata": {
    "id": "WmULYsDLS4CK"
   },
   "outputs": [],
   "source": [
    "#抓取貼文連結\n",
    "\n",
    "def getPostLink(url,driver):\n",
    "    driver.get(url)\n",
    "    post_link_list = []\n",
    "    search_page = driver.page_source\n",
    "    soup = BeautifulSoup(search_page,\"html.parser\")\n",
    "    for l in soup.find_all(\"div\", class_=\"gsc-thumbnail-inside\"):\n",
    "        temp_soup = BeautifulSoup(str(l),\"html.parser\")\n",
    "        temp_target = temp_soup.find(\"a\", class_=\"gs-title\")\n",
    "        temp = []\n",
    "        temp.append(temp_target.get_text())\n",
    "        temp.append(temp_target.get('href'))\n",
    "        post_link_list.append(temp)\n",
    "    link_df = pd.DataFrame(post_link_list)\n",
    "    link_df = link_df.rename(columns={0: 'Post Title', 1: 'Link'})\n",
    "    FinishedCrawler(driver)\n",
    "    return link_df"
   ]
  },
  {
   "cell_type": "code",
   "execution_count": 12,
   "metadata": {},
   "outputs": [],
   "source": [
    "Title_Link = getPostLink(\"https://www.mobile01.com/googlesearch.php?q=iphone%252013&c=16\",OpenChromeDriver())"
   ]
  },
  {
   "cell_type": "code",
   "execution_count": 13,
   "metadata": {},
   "outputs": [
    {
     "data": {
      "text/html": [
       "<div>\n",
       "<style scoped>\n",
       "    .dataframe tbody tr th:only-of-type {\n",
       "        vertical-align: middle;\n",
       "    }\n",
       "\n",
       "    .dataframe tbody tr th {\n",
       "        vertical-align: top;\n",
       "    }\n",
       "\n",
       "    .dataframe thead th {\n",
       "        text-align: right;\n",
       "    }\n",
       "</style>\n",
       "<table border=\"1\" class=\"dataframe\">\n",
       "  <thead>\n",
       "    <tr style=\"text-align: right;\">\n",
       "      <th></th>\n",
       "    </tr>\n",
       "  </thead>\n",
       "  <tbody>\n",
       "  </tbody>\n",
       "</table>\n",
       "</div>"
      ],
      "text/plain": [
       "Empty DataFrame\n",
       "Columns: []\n",
       "Index: []"
      ]
     },
     "execution_count": 13,
     "metadata": {},
     "output_type": "execute_result"
    }
   ],
   "source": [
    "Title_Link"
   ]
  },
  {
   "cell_type": "code",
   "execution_count": null,
   "metadata": {},
   "outputs": [],
   "source": [
    "# 抓上面的連結套getPostComment-> assign 給comments們\n",
    "\n",
    "for i in range (len(Title_Link)):\n",
    "    locals()['comments' + str(i)] = getPostComment(Linker[i], OpenChromeDriver())"
   ]
  }
 ],
 "metadata": {
  "colab": {
   "name": "mobile01_crawler.ipynb",
   "provenance": []
  },
  "kernelspec": {
   "display_name": "Python 3 (ipykernel)",
   "language": "python",
   "name": "python3"
  },
  "language_info": {
   "codemirror_mode": {
    "name": "ipython",
    "version": 3
   },
   "file_extension": ".py",
   "mimetype": "text/x-python",
   "name": "python",
   "nbconvert_exporter": "python",
   "pygments_lexer": "ipython3",
   "version": "3.9.12"
  }
 },
 "nbformat": 4,
 "nbformat_minor": 1
}
