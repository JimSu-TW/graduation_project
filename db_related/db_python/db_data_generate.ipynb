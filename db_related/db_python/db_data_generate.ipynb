{
 "cells": [
  {
   "cell_type": "code",
   "execution_count": 18,
   "metadata": {},
   "outputs": [],
   "source": [
    "import os\n",
    "import pandas as pd\n",
    "import datetime\n",
    "\n",
    "now = datetime.datetime.now().strftime(\"%Y%m%d\")"
   ]
  },
  {
   "cell_type": "code",
   "execution_count": 2,
   "metadata": {},
   "outputs": [],
   "source": [
    "phone_df = pd.read_csv(\"../../crawler_data/Phone_Data_20220802.csv\")"
   ]
  },
  {
   "cell_type": "code",
   "execution_count": 4,
   "metadata": {},
   "outputs": [],
   "source": [
    "#tbl_brand.csv\n",
    "count = 1\n",
    "tbl_data = []\n",
    "for brand in phone_df.Brand_Name.unique():\n",
    "    tbl_data.append([count, brand])\n",
    "    count +=1\n",
    "brand_df = pd.DataFrame(data=tbl_data, columns=['id', 'Brand'])\n",
    "brand_df.to_csv(\"../db_csv/tbl_brand.csv\", index=False, encoding=\"utf-8\")\n"
   ]
  },
  {
   "cell_type": "code",
   "execution_count": 5,
   "metadata": {},
   "outputs": [],
   "source": [
    "#tbl_product_class\n",
    "count = 1\n",
    "tbl_data = []\n",
    "# DSLR: 單眼, EVIL: 微單\n",
    "product_class = [\"NoteBook\", \"Tablet\", \"Phone\", \"DSLR\",\"EVIL\"]\n",
    "for pc in product_class:\n",
    "    tbl_data.append([count, pc])\n",
    "    count +=1\n",
    "product_class_df = pd.DataFrame(data=tbl_data, columns=['id', 'Product_Class'])\n",
    "product_class_df.to_csv(\"../db_csv/tbl_product_class.csv\", index=False, encoding=\"utf-8\")"
   ]
  },
  {
   "cell_type": "code",
   "execution_count": 6,
   "metadata": {},
   "outputs": [],
   "source": [
    "#tbl_source\n",
    "count = 1\n",
    "tbl_data = []\n",
    "source = [\"DCfever\", \"Engadget\", \"Mobile01\", \"PTT\"]\n",
    "for s in source:\n",
    "    tbl_data.append([count, s])\n",
    "    count +=1\n",
    "source_df = pd.DataFrame(data=tbl_data, columns=['id','Source'])\n",
    "source_df.to_csv(\"../db_csv/tbl_source.csv\", index=False, encoding=\"utf-8\")"
   ]
  },
  {
   "cell_type": "code",
   "execution_count": 34,
   "metadata": {},
   "outputs": [],
   "source": [
    "#tbl_product\n",
    "#tbl_icon\n",
    "\n",
    "count = 1\n",
    "tbl_data = []\n",
    "\n",
    "for index, p in phone_df.iterrows():\n",
    "    temp_brand_name = p['Brand_Name']\n",
    "    temp_name = p['Phone_Name']\n",
    "    temp_icon = p['Icon']\n",
    "    temp_spec_file = \"../spec_data/\"+temp_brand_name+\"/\"+temp_name+\".csv\"\n",
    "    tbl_data.append([index+1, temp_icon, temp_brand_name, 3, temp_name, temp_spec_file, now, now])\n",
    "\n",
    "new_phone_df = pd.DataFrame(data=tbl_data, columns=['id','icon_id', 'brand_id', 'product_class_id', 'name', 'specification', 'create_date', 'modified_date'])\n",
    "\n",
    "brands = pd.read_csv(\"../db_csv/tbl_brand.csv\").iterrows()\n",
    "for index, b in brands:\n",
    "    temp_name = b['Brand']\n",
    "    temp_id = b['id']\n",
    "    new_phone_df['brand_id'] = new_phone_df['brand_id'].replace([temp_name], temp_id)\n",
    "\n",
    "icon_df = new_phone_df[['id', 'icon_id']]\n",
    "icon_df = icon_df.rename(columns={'icon_id':'link'})\n",
    "for index, i in icon_df.iterrows():\n",
    "    temp_icon_id = i['id']\n",
    "    temp_link = i['link']\n",
    "    new_phone_df['icon_id'] = new_phone_df['icon_id'].replace([temp_link], temp_icon_id)\n",
    "\n",
    "new_phone_df.to_csv(\"../db_csv/tbl_product.csv\", index=False, encoding=\"utf-8\")\n",
    "icon_df.to_csv(\"../db_csv/tbl_icon.csv\", index=False, encoding=\"utf-8\")"
   ]
  }
 ],
 "metadata": {
  "kernelspec": {
   "display_name": "Python 3.9.13 ('test')",
   "language": "python",
   "name": "python3"
  },
  "language_info": {
   "codemirror_mode": {
    "name": "ipython",
    "version": 3
   },
   "file_extension": ".py",
   "mimetype": "text/x-python",
   "name": "python",
   "nbconvert_exporter": "python",
   "pygments_lexer": "ipython3",
   "version": "3.9.13"
  },
  "orig_nbformat": 4,
  "vscode": {
   "interpreter": {
    "hash": "092d0ea159525ecf02658390025c398c60e3a51ddc9accd656e90816b179f234"
   }
  }
 },
 "nbformat": 4,
 "nbformat_minor": 2
}
