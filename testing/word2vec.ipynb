{
 "cells": [
  {
   "cell_type": "code",
   "execution_count": 44,
   "metadata": {},
   "outputs": [],
   "source": [
    "from gensim.models import word2vec\n",
    "\n",
    "\n",
    "# Settings\n",
    "seed = 5201314\n",
    "sg = 0\n",
    "window_size = 25\n",
    "vector_size = 300\n",
    "min_count = 2\n",
    "workers = 60\n",
    "epochs = 100\n",
    "batch_words = 400\n",
    "\n",
    "train_data = word2vec.LineSentence('../training_data/process_content.txt')\n",
    "model = word2vec.Word2Vec(\n",
    "    train_data,\n",
    "    min_count=min_count,\n",
    "    vector_size=vector_size,\n",
    "    workers=workers,\n",
    "    epochs=epochs,\n",
    "    window=window_size,\n",
    "    sg=sg,\n",
    "    seed=seed,\n",
    "    batch_words=batch_words\n",
    ")\n",
    "\n",
    "model.save('word2vec.model')"
   ]
  },
  {
   "cell_type": "code",
   "execution_count": 45,
   "metadata": {},
   "outputs": [
    {
     "name": "stdout",
     "output_type": "stream",
     "text": [
      "('冷調', 0.16146089136600494)\n",
      "('便宜', 0.15765829384326935)\n",
      "('名字', 0.15757183730602264)\n",
      "('讚嘆', 0.15454351902008057)\n",
      "('綠色', 0.1512092798948288)\n",
      "('bionic', 0.15001274645328522)\n",
      "('找到', 0.1460101455450058)\n",
      "('方法', 0.14369849860668182)\n",
      "('抽獎', 0.14083178341388702)\n",
      "('神經', 0.14052189886569977)\n"
     ]
    }
   ],
   "source": [
    "model = word2vec.Word2Vec.load('word2vec.model')\n",
    "for item in model.wv.most_similar('鏡頭'):\n",
    "    print(item)"
   ]
  },
  {
   "cell_type": "code",
   "execution_count": 46,
   "metadata": {},
   "outputs": [
    {
     "data": {
      "text/html": [
       "<div>\n",
       "<style scoped>\n",
       "    .dataframe tbody tr th:only-of-type {\n",
       "        vertical-align: middle;\n",
       "    }\n",
       "\n",
       "    .dataframe tbody tr th {\n",
       "        vertical-align: top;\n",
       "    }\n",
       "\n",
       "    .dataframe thead th {\n",
       "        text-align: right;\n",
       "    }\n",
       "</style>\n",
       "<table border=\"1\" class=\"dataframe\">\n",
       "  <thead>\n",
       "    <tr style=\"text-align: right;\">\n",
       "      <th></th>\n",
       "      <th>Score</th>\n",
       "      <th>Word</th>\n",
       "    </tr>\n",
       "  </thead>\n",
       "  <tbody>\n",
       "    <tr>\n",
       "      <th>2073</th>\n",
       "      <td>0.048014</td>\n",
       "      <td>18日</td>\n",
       "    </tr>\n",
       "    <tr>\n",
       "      <th>4416</th>\n",
       "      <td>0.030655</td>\n",
       "      <td>cpu</td>\n",
       "    </tr>\n",
       "    <tr>\n",
       "      <th>6876</th>\n",
       "      <td>0.030060</td>\n",
       "      <td>soc</td>\n",
       "    </tr>\n",
       "    <tr>\n",
       "      <th>4114</th>\n",
       "      <td>0.027233</td>\n",
       "      <td>ipad</td>\n",
       "    </tr>\n",
       "    <tr>\n",
       "      <th>4474</th>\n",
       "      <td>0.013239</td>\n",
       "      <td>2016年</td>\n",
       "    </tr>\n",
       "    <tr>\n",
       "      <th>7076</th>\n",
       "      <td>0.008693</td>\n",
       "      <td>wifi6</td>\n",
       "    </tr>\n",
       "    <tr>\n",
       "      <th>5470</th>\n",
       "      <td>-0.014296</td>\n",
       "      <td>home</td>\n",
       "    </tr>\n",
       "    <tr>\n",
       "      <th>3271</th>\n",
       "      <td>-0.014680</td>\n",
       "      <td>俗</td>\n",
       "    </tr>\n",
       "    <tr>\n",
       "      <th>6267</th>\n",
       "      <td>-0.033520</td>\n",
       "      <td>mah</td>\n",
       "    </tr>\n",
       "    <tr>\n",
       "      <th>6203</th>\n",
       "      <td>-0.070448</td>\n",
       "      <td>led</td>\n",
       "    </tr>\n",
       "    <tr>\n",
       "      <th>4296</th>\n",
       "      <td>-0.095537</td>\n",
       "      <td>pubg</td>\n",
       "    </tr>\n",
       "    <tr>\n",
       "      <th>6099</th>\n",
       "      <td>-0.104109</td>\n",
       "      <td>netflix</td>\n",
       "    </tr>\n",
       "  </tbody>\n",
       "</table>\n",
       "</div>"
      ],
      "text/plain": [
       "         Score     Word\n",
       "2073  0.048014      18日\n",
       "4416  0.030655      cpu\n",
       "6876  0.030060      soc\n",
       "4114  0.027233     ipad\n",
       "4474  0.013239    2016年\n",
       "7076  0.008693    wifi6\n",
       "5470 -0.014296     home\n",
       "3271 -0.014680        俗\n",
       "6267 -0.033520      mah\n",
       "6203 -0.070448      led\n",
       "4296 -0.095537     pubg\n",
       "6099 -0.104109  netflix"
      ]
     },
     "execution_count": 46,
     "metadata": {},
     "output_type": "execute_result"
    }
   ],
   "source": [
    "import pandas as pd\n",
    "score_list = []\n",
    "raw_content = pd.read_csv('../training_data/Content_cut.csv')\n",
    "content_list = eval(raw_content.loc[0,'content_cut'])\n",
    "for i in content_list:\n",
    "    try:\n",
    "        score = model.wv.similarity('電池', i)\n",
    "        score_list.append([score, i])\n",
    "    except:\n",
    "        continue\n",
    "score_df = pd.DataFrame(data = score_list, columns=['Score', 'Word'])\n",
    "score_df = score_df.drop_duplicates(subset=['Score', 'Word'], keep=False)\n",
    "score_df.sort_values(by=['Score'], ascending=False)"
   ]
  }
 ],
 "metadata": {
  "kernelspec": {
   "display_name": "Python 3.9.12 ('forckip')",
   "language": "python",
   "name": "python3"
  },
  "language_info": {
   "codemirror_mode": {
    "name": "ipython",
    "version": 3
   },
   "file_extension": ".py",
   "mimetype": "text/x-python",
   "name": "python",
   "nbconvert_exporter": "python",
   "pygments_lexer": "ipython3",
   "version": "3.9.12"
  },
  "orig_nbformat": 4,
  "vscode": {
   "interpreter": {
    "hash": "01908b150e1668b717caac706470683a7cc18479885714f26fcfb5ff57f35158"
   }
  }
 },
 "nbformat": 4,
 "nbformat_minor": 2
}
