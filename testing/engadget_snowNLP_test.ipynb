{
 "cells": [
  {
   "cell_type": "code",
   "execution_count": 1,
   "metadata": {
    "scrolled": true
   },
   "outputs": [
    {
     "name": "stdout",
     "output_type": "stream",
     "text": [
      "Requirement already satisfied: selenium in c:\\users\\celin ho\\anaconda3\\lib\\site-packages (4.1.3)\n",
      "Requirement already satisfied: urllib3[secure,socks]~=1.26 in c:\\users\\celin ho\\anaconda3\\lib\\site-packages (from selenium) (1.26.9)\n",
      "Requirement already satisfied: trio-websocket~=0.9 in c:\\users\\celin ho\\anaconda3\\lib\\site-packages (from selenium) (0.9.2)\n",
      "Requirement already satisfied: trio~=0.17 in c:\\users\\celin ho\\anaconda3\\lib\\site-packages (from selenium) (0.20.0)\n",
      "Requirement already satisfied: idna>=2.0.0; extra == \"secure\" in c:\\users\\celin ho\\anaconda3\\lib\\site-packages (from urllib3[secure,socks]~=1.26->selenium) (2.10)\n",
      "Requirement already satisfied: certifi; extra == \"secure\" in c:\\users\\celin ho\\anaconda3\\lib\\site-packages (from urllib3[secure,socks]~=1.26->selenium) (2020.6.20)\n",
      "Requirement already satisfied: pyOpenSSL>=0.14; extra == \"secure\" in c:\\users\\celin ho\\anaconda3\\lib\\site-packages (from urllib3[secure,socks]~=1.26->selenium) (19.1.0)\n",
      "Requirement already satisfied: cryptography>=1.3.4; extra == \"secure\" in c:\\users\\celin ho\\anaconda3\\lib\\site-packages (from urllib3[secure,socks]~=1.26->selenium) (3.1.1)\n",
      "Requirement already satisfied: PySocks!=1.5.7,<2.0,>=1.5.6; extra == \"socks\" in c:\\users\\celin ho\\anaconda3\\lib\\site-packages (from urllib3[secure,socks]~=1.26->selenium) (1.7.1)\n",
      "Requirement already satisfied: wsproto>=0.14 in c:\\users\\celin ho\\anaconda3\\lib\\site-packages (from trio-websocket~=0.9->selenium) (1.1.0)\n",
      "Requirement already satisfied: async-generator>=1.10 in c:\\users\\celin ho\\anaconda3\\lib\\site-packages (from trio-websocket~=0.9->selenium) (1.10)\n",
      "Requirement already satisfied: sortedcontainers in c:\\users\\celin ho\\anaconda3\\lib\\site-packages (from trio~=0.17->selenium) (2.2.2)\n",
      "Requirement already satisfied: cffi>=1.14; os_name == \"nt\" and implementation_name != \"pypy\" in c:\\users\\celin ho\\anaconda3\\lib\\site-packages (from trio~=0.17->selenium) (1.14.3)\n",
      "Requirement already satisfied: sniffio in c:\\users\\celin ho\\anaconda3\\lib\\site-packages (from trio~=0.17->selenium) (1.2.0)\n",
      "Requirement already satisfied: attrs>=19.2.0 in c:\\users\\celin ho\\anaconda3\\lib\\site-packages (from trio~=0.17->selenium) (20.3.0)\n",
      "Requirement already satisfied: outcome in c:\\users\\celin ho\\anaconda3\\lib\\site-packages (from trio~=0.17->selenium) (1.1.0)\n",
      "Requirement already satisfied: six>=1.5.2 in c:\\users\\celin ho\\anaconda3\\lib\\site-packages (from pyOpenSSL>=0.14; extra == \"secure\"->urllib3[secure,socks]~=1.26->selenium) (1.15.0)\n",
      "Requirement already satisfied: h11<1,>=0.9.0 in c:\\users\\celin ho\\anaconda3\\lib\\site-packages (from wsproto>=0.14->trio-websocket~=0.9->selenium) (0.13.0)\n",
      "Requirement already satisfied: pycparser in c:\\users\\celin ho\\anaconda3\\lib\\site-packages (from cffi>=1.14; os_name == \"nt\" and implementation_name != \"pypy\"->trio~=0.17->selenium) (2.20)\n"
     ]
    }
   ],
   "source": [
    "!pip3 install selenium"
   ]
  },
  {
   "cell_type": "markdown",
   "metadata": {},
   "source": [
    "https://www.gushiciku.cn/pl/pTTN/zh-tw <br>\n",
    "<font color=red>\n",
    "word = u'這個姑娘真好看' <br>\n",
    "s = SnowNLP(word) <br>\n",
    "print(s.words)        # 分詞 <br>\n",
    "print(list(s.tags))   # 詞性標註 <br>\n",
    "print(s.sentiments)   # 情感分數 <br>\n",
    "    \n",
    "<font size=8>以下為基本運用"
   ]
  },
  {
   "cell_type": "code",
   "execution_count": 2,
   "metadata": {},
   "outputs": [],
   "source": [
    "# 聲明瀏覽器對象\n",
    "from selenium import webdriver\n",
    "# 原文網址：https://kknews.cc/code/8z6enqn.html"
   ]
  },
  {
   "cell_type": "code",
   "execution_count": 3,
   "metadata": {},
   "outputs": [
    {
     "name": "stdout",
     "output_type": "stream",
     "text": [
      "Requirement already satisfied: snownlp in c:\\users\\celin ho\\anaconda3\\lib\\site-packages (0.12.3)\n"
     ]
    }
   ],
   "source": [
    "!pip install snownlp"
   ]
  },
  {
   "cell_type": "code",
   "execution_count": 4,
   "metadata": {},
   "outputs": [
    {
     "data": {
      "text/plain": [
       "['我', '喜', '歡', '吃', '巧克力', '。']"
      ]
     },
     "execution_count": 4,
     "metadata": {},
     "output_type": "execute_result"
    }
   ],
   "source": [
    "# 分词\n",
    "from snownlp import SnowNLP\n",
    "\n",
    "s = SnowNLP(u'我喜歡吃巧克力。')\n",
    "# u 前綴是Unicode string的有效語法\n",
    "\n",
    "s.words"
   ]
  },
  {
   "cell_type": "code",
   "execution_count": 5,
   "metadata": {},
   "outputs": [
    {
     "name": "stdout",
     "output_type": "stream",
     "text": [
      "('我', 'r')\n",
      "('喜', 'Ng')\n",
      "('歡', 'Dg')\n",
      "('吃', 'v')\n",
      "('巧克力', 'n')\n",
      "('。', 'w')\n"
     ]
    }
   ],
   "source": [
    "# 1/詞性標記\n",
    "s_tags = s.tags\n",
    "for token_tag in s_tags:\n",
    "    print(token_tag)"
   ]
  },
  {
   "cell_type": "code",
   "execution_count": 6,
   "metadata": {},
   "outputs": [
    {
     "data": {
      "text/plain": [
       "[('我', 'r'), ('喜', 'Ng'), ('歡', 'Dg'), ('吃', 'v'), ('巧克力', 'n'), ('。', 'w')]"
      ]
     },
     "execution_count": 6,
     "metadata": {},
     "output_type": "execute_result"
    }
   ],
   "source": [
    "# 2/詞性標記\n",
    "list(s.tags)\n",
    "\n",
    "# r：指代詞，在句子中替換名詞的詞。\n",
    "# v：指動詞，用於描述動作、狀態或事件的詞。\n",
    "# n：指名詞，用於識別任何一類人、地方或事物的詞。\n",
    "# w：指標點符號，在寫作中用於分隔句子及其元素並闡明含義的符號"
   ]
  },
  {
   "cell_type": "code",
   "execution_count": 7,
   "metadata": {},
   "outputs": [
    {
     "name": "stdout",
     "output_type": "stream",
     "text": [
      "0.8850363284512436\n"
     ]
    }
   ],
   "source": [
    "# 情感分析(positive的概率)\n",
    "s_senti = s.sentiments\n",
    "print(s_senti)"
   ]
  },
  {
   "cell_type": "markdown",
   "metadata": {},
   "source": [
    "<font color = red>以下測試句子分割"
   ]
  },
  {
   "cell_type": "code",
   "execution_count": 8,
   "metadata": {},
   "outputs": [],
   "source": [
    "#new chrome driver\n",
    "\n",
    "from selenium import webdriver\n",
    "\n",
    "def OpenChromeDriver():\n",
    "    #開啟瀏覽器新分頁，下載google chrome driver\n",
    "    ban_notify=webdriver.ChromeOptions()\n",
    "    prefs={\"profile.default_content_setting_values.notifications\" : 2}\n",
    "    ban_notify.add_experimental_option(\"prefs\",prefs)\n",
    "    gchrome=webdriver.Chrome(options=ban_notify)\n",
    "    return gchrome\n",
    "\n",
    "def FinishedCrawler(driver):\n",
    "    driver.close()"
   ]
  },
  {
   "cell_type": "code",
   "execution_count": 9,
   "metadata": {},
   "outputs": [
    {
     "name": "stdout",
     "output_type": "stream",
     "text": [
      "['一如大家所期待的，4.7 吋的小螢幕 iPhone SE（第三代）正式在今天的「Peek performance」活動發表了，經典帶 Touch ID 主頁鍵 iPhone 樣子能夠再戰多年。就如過去的升級，iPhone SE 3 重點升級是在晶片的部分，這會是跟進了使用 iPhone 13 系列同級的 A15 仿生晶片，因此這款小手機也自然會加入 5G 能力了。', '機身雖然同樣小巧，不過 Apple 也升級了造工，也就是用上了跟 iPhone 13 系列一樣的前、後玻璃，有著 IP67 防護等級，備黑、紅、白三色。3 月 18 日正式上場，定價 429 美元 / HK$3,699 / NT$13,900 / 人民幣 3,499 元。', '台灣優惠資訊：']\n"
     ]
    }
   ],
   "source": [
    "#抓取貼文留言\n",
    "\n",
    "from selenium import webdriver\n",
    "from selenium.webdriver.common.keys import Keys\n",
    "from selenium.webdriver.common.action_chains import ActionChains\n",
    "from selenium.common.exceptions import NoSuchElementException\n",
    "from selenium.common.exceptions import StaleElementReferenceException\n",
    "from datetime import date\n",
    "from bs4 import BeautifulSoup\n",
    "import sys\n",
    "import time\n",
    "import pandas as pd\n",
    "\n",
    "content_text_all=[]\n",
    "def getPostComment(url,driver):\n",
    "    driver.get(url)\n",
    "            \n",
    "    #Get Comment       \n",
    "    soup = BeautifulSoup(driver.page_source,\"html.parser\")\n",
    "    content_all = str(soup.find(\"div\",id=\"post-center-col\"))\n",
    "    content_html = content_all[:content_all.find('<div id=\"post-bottom-social-share\">')]\n",
    "    content_fix_soup = BeautifulSoup(content_html, \"html.parser\")\n",
    "    \n",
    "    for i in content_fix_soup.find_all(\"p\"):\n",
    "        if(i.find(\"a\") != None):\n",
    "            continue\n",
    "        else:\n",
    "            content_text_all.append(i.get_text())\n",
    "            \n",
    "    print(content_text_all)\n",
    "    FinishedCrawler(driver)\n",
    "    \n",
    "getPostComment(\"https://chinese.engadget.com/apple-iphone-se-3-5g-support-182114740.html\",OpenChromeDriver())"
   ]
  },
  {
   "cell_type": "code",
   "execution_count": 10,
   "metadata": {},
   "outputs": [
    {
     "data": {
      "text/plain": [
       "list"
      ]
     },
     "execution_count": 10,
     "metadata": {},
     "output_type": "execute_result"
    }
   ],
   "source": [
    "type(content_text_all)"
   ]
  },
  {
   "cell_type": "code",
   "execution_count": 11,
   "metadata": {},
   "outputs": [
    {
     "name": "stdout",
     "output_type": "stream",
     "text": [
      "一如大家所期待的，4.7 吋的小螢幕 iPhone SE（第三代）正式在今天的「Peek performance」活動發表了，經典帶 Touch ID 主頁鍵 iPhone 樣子能夠再戰多年。就如過去的升級，iPhone SE 3 重點升級是在晶片的部分，這會是跟進了使用 iPhone 13 系列同級的 A15 仿生晶片，因此這款小手機也自然會加入 5G 能力了。機身雖然同樣小巧，不過 Apple 也升級了造工，也就是用上了跟 iPhone 13 系列一樣的前、後玻璃，有著 IP67 防護等級，備黑、紅、白三色。3 月 18 日正式上場，定價 429 美元 / HK$3,699 / NT$13,900 / 人民幣 3,499 元。台灣優惠資訊：\n"
     ]
    }
   ],
   "source": [
    "# list轉字串\n",
    "text = \"\".join(content_text_all)\n",
    "print(text)"
   ]
  },
  {
   "cell_type": "code",
   "execution_count": 12,
   "metadata": {},
   "outputs": [
    {
     "name": "stdout",
     "output_type": "stream",
     "text": [
      "一如大家所期待的。\n",
      "4.7 吋的小螢幕 iPhone SE（第三代）正式在今天的「Peek performance」活動發表了。\n",
      "經典帶 Touch ID 主頁鍵 iPhone 樣子能夠再戰多年。\n",
      "就如過去的升級。\n",
      "iPhone SE 3 重點升級是在晶片的部分。\n",
      "這會是跟進了使用 iPhone 13 系列同級的 A15 仿生晶片。\n",
      "因此這款小手機也自然會加入 5G 能力了。\n",
      "機身雖然同樣小巧。\n",
      "不過 Apple 也升級了造工。\n",
      "也就是用上了跟 iPhone 13 系列一樣的前、後玻璃。\n",
      "有著 IP67 防護等級。\n",
      "備黑、紅、白三色。\n",
      "3 月 18 日正式上場。\n",
      "定價 429 美元 / HK$3,699 / NT$13,900 / 人民幣 3,499 元。\n",
      "台灣優惠資訊：。\n"
     ]
    }
   ],
   "source": [
    "# 分割成句子（Tokenization）\n",
    "t = SnowNLP(text)\n",
    "for sen in t.sentences:\n",
    "    print(sen + \"。\")"
   ]
  },
  {
   "cell_type": "code",
   "execution_count": 13,
   "metadata": {},
   "outputs": [
    {
     "name": "stdout",
     "output_type": "stream",
     "text": [
      "['歡', '巧克力', '吃']\n"
     ]
    }
   ],
   "source": [
    "s2 = SnowNLP(text)\n",
    "\n",
    "print(s.keywords(limit=3))    "
   ]
  },
  {
   "cell_type": "code",
   "execution_count": 14,
   "metadata": {},
   "outputs": [
    {
     "name": "stdout",
     "output_type": "stream",
     "text": [
      "這會是跟進了使用 iPhone 13 系列同級的 A15 仿生晶片\n",
      "也就是用上了跟 iPhone 13 系列一樣的前、後玻璃\n",
      "iPhone SE 3 重點升級是在晶片的部分\n"
     ]
    }
   ],
   "source": [
    "# 文章大意\n",
    "summary = s2.summary(limit=3)      \n",
    "for i in summary:\n",
    "    print(i)"
   ]
  },
  {
   "cell_type": "code",
   "execution_count": 15,
   "metadata": {},
   "outputs": [
    {
     "name": "stdout",
     "output_type": "stream",
     "text": [
      "['一如大家所期待的', '4.7 吋的小螢幕 iPhone SE（第三代）正式在今天的「Peek performance」活動發表了', '經典帶 Touch ID 主頁鍵 iPhone 樣子能夠再戰多年', '就如過去的升級', 'iPhone SE 3 重點升級是在晶片的部分', '這會是跟進了使用 iPhone 13 系列同級的 A15 仿生晶片', '因此這款小手機也自然會加入 5G 能力了', '機身雖然同樣小巧', '不過 Apple 也升級了造工', '也就是用上了跟 iPhone 13 系列一樣的前、後玻璃', '有著 IP67 防護等級', '備黑、紅、白三色', '3 月 18 日正式上場', '定價 429 美元 / HK$3,699 / NT$13,900 / 人民幣 3,499 元', '台灣優惠資訊：']\n"
     ]
    }
   ],
   "source": [
    "# 分句\n",
    "print(s2.sentences)        "
   ]
  },
  {
   "cell_type": "code",
   "execution_count": 16,
   "metadata": {},
   "outputs": [],
   "source": [
    "# 評價詞語對文字的重要程度\n",
    "# TF-IDF是一種統計方法，用以評估一字詞對於一個檔案集或一個語料庫中的其中一份檔案的重要程度。\n",
    "# TF詞頻越大越重要，但是文中會的“的”，“你”等無意義詞頻很大，卻資訊量幾乎為0，這種情況導致單純看詞頻評價詞語重要性是不準確的。因此加入了idf\n",
    "# IDF的主要思想是：如果包含詞條t的文件越少，也就是n越小，IDF越大，則說明詞條t越重要\n",
    "# TF-IDF綜合起來，才能準確的綜合的評價一詞對文字的重要性。"
   ]
  },
  {
   "cell_type": "code",
   "execution_count": 17,
   "metadata": {},
   "outputs": [
    {
     "name": "stdout",
     "output_type": "stream",
     "text": [
      "('一如', 'p')\n",
      "('大家', 'r')\n",
      "('所', 'u')\n",
      "('期待', 'v')\n",
      "('的', 'u')\n",
      "('，4.7', 'o')\n",
      "('吋', 'o')\n",
      "('的', 'u')\n",
      "('小', 'a')\n",
      "('螢幕', 'Rg')\n",
      "('iPhone', 'Rg')\n",
      "('SE（', 'Rg')\n",
      "('第三', 'm')\n",
      "('代', 'q')\n",
      "('）', 'w')\n",
      "('正式', 'ad')\n",
      "('在', 'p')\n",
      "('今天', 't')\n",
      "('的', 'u')\n",
      "('「Peek', 'Tg')\n",
      "('performance」', 'Tg')\n",
      "('活', 'v')\n",
      "('動', 'Tg')\n",
      "('發表', 'Tg')\n",
      "('了', 'y')\n",
      "('，', 'w')\n",
      "('經', 'Ag')\n",
      "('典', 'Ng')\n",
      "('帶', 'o')\n",
      "('Touch', 'e')\n",
      "('ID', 'e')\n",
      "('主', 'n')\n",
      "('頁', 'Rg')\n",
      "('鍵', 'Rg')\n",
      "('iPhone', 'Rg')\n",
      "('樣', 'Rg')\n",
      "('子', 'Ng')\n",
      "('能', 'v')\n",
      "('夠', 'Ng')\n",
      "('再', 'd')\n",
      "('戰', 'Vg')\n",
      "('多', 'm')\n",
      "('年', 'q')\n",
      "('。', 'w')\n",
      "('就', 'd')\n",
      "('如', 'v')\n",
      "('過去', 'i')\n",
      "('的', 'u')\n",
      "('升', 'v')\n",
      "('級', 'o')\n",
      "('，iPhone', 'o')\n",
      "('SE', 'e')\n",
      "('3', 'e')\n",
      "('重', 'v')\n",
      "('點升', 'y')\n",
      "('級', 'w')\n",
      "('是', 'v')\n",
      "('在', 'p')\n",
      "('晶片', 'Rg')\n",
      "('的', 'u')\n",
      "('部分', 'n')\n",
      "('，', 'w')\n",
      "('這', 'Rg')\n",
      "('會', 'Rg')\n",
      "('是', 'v')\n",
      "('跟', 'p')\n",
      "('進', 'Rg')\n",
      "('了', 'u')\n",
      "('使用', 'v')\n",
      "('iPhone', 'Rg')\n",
      "('13', 'k')\n",
      "('系', 'v')\n",
      "('列', 'v')\n",
      "('同', 'p')\n",
      "('級', 'nx')\n",
      "('的', 'u')\n",
      "('A15', 'nx')\n",
      "('仿生', 'b')\n",
      "('晶片', 'n')\n",
      "('，', 'w')\n",
      "('因', 'p')\n",
      "('此', 'r')\n",
      "('這款', 'q')\n",
      "('小', 'a')\n",
      "('手', 'n')\n",
      "('機', 'Rg')\n",
      "('也', 'd')\n",
      "('自然', 'd')\n",
      "('會', 'Dg')\n",
      "('加入', 'v')\n",
      "('5G', 'Dg')\n",
      "('能力', 'n')\n",
      "('了', 'u')\n",
      "('。', 'w')\n",
      "('機身', 'Rg')\n",
      "('雖', 'Rg')\n",
      "('然', 'r')\n",
      "('同', 'p')\n",
      "('樣', 'Rg')\n",
      "('小巧', 'Rg')\n",
      "('，', 'w')\n",
      "('不', 'd')\n",
      "('過', 'Rg')\n",
      "('Apple', 'Rg')\n",
      "('也', 'd')\n",
      "('升', 'v')\n",
      "('級', 'Rg')\n",
      "('了造', 'Rg')\n",
      "('工', 'Ng')\n",
      "('，', 'w')\n",
      "('也', 'd')\n",
      "('就', 'd')\n",
      "('是', 'v')\n",
      "('用', 'p')\n",
      "('上', 'f')\n",
      "('了', 'u')\n",
      "('跟', 'v')\n",
      "('iPhone', 'Rg')\n",
      "('13', 'k')\n",
      "('系', 'v')\n",
      "('列', 'v')\n",
      "('一', 'm')\n",
      "('樣', 'q')\n",
      "('的', 'u')\n",
      "('前', 'f')\n",
      "('、', 'w')\n",
      "('後', 'ns')\n",
      "('玻璃', 'n')\n",
      "('，', 'w')\n",
      "('有', 'v')\n",
      "('著', 'Vg')\n",
      "('IP67', 'Tg')\n",
      "('防', 'v')\n",
      "('護', 'Tg')\n",
      "('等', 'u')\n",
      "('級', 'Tg')\n",
      "('，', 'w')\n",
      "('備', 'Tg')\n",
      "('黑', 'a')\n",
      "('、', 'w')\n",
      "('紅', 'o')\n",
      "('、', 'w')\n",
      "('白三色', 'o')\n",
      "('。3', 'o')\n",
      "('月', 'n')\n",
      "('18', 'm')\n",
      "('日', 'q')\n",
      "('正', 'd')\n",
      "('式', 'k')\n",
      "('上', 'v')\n",
      "('場', 'y')\n",
      "('，', 'w')\n",
      "('定', 'v')\n",
      "('價', 'Rg')\n",
      "('429', 'Rg')\n",
      "('美元', 'q')\n",
      "('/', 'o')\n",
      "('HK$3,699', 'o')\n",
      "('/', 'o')\n",
      "('NT$13,900', 'e')\n",
      "('/', 'e')\n",
      "('人民', 'n')\n",
      "('幣', 'Rg')\n",
      "('3,499', 'Rg')\n",
      "('元', 'Ng')\n",
      "('。', 'w')\n",
      "('台', 'q')\n",
      "('灣', 'Rg')\n",
      "('優', 'Rg')\n",
      "('惠', 'Ng')\n",
      "('資', 'e')\n",
      "('訊', 'e')\n",
      "('：', 'w')\n"
     ]
    }
   ],
   "source": [
    "test_tags = s2.tags\n",
    "for token_tag in test_tags:\n",
    "    print(token_tag)"
   ]
  },
  {
   "cell_type": "code",
   "execution_count": 18,
   "metadata": {},
   "outputs": [
    {
     "name": "stdout",
     "output_type": "stream",
     "text": [
      "[{'一': 1, '如': 1, '大': 1, '家': 1, '所': 1, '期': 1, '待': 1, '的': 1}, {'4': 1, '.': 1, '7': 1, ' ': 4, '吋': 1, '的': 2, '小': 1, '螢': 1, '幕': 1, 'i': 1, 'P': 2, 'h': 1, 'o': 2, 'n': 2, 'e': 5, 'S': 1, 'E': 1, '（': 1, '第': 1, '三': 1, '代': 1, '）': 1, '正': 1, '式': 1, '在': 1, '今': 1, '天': 1, '「': 1, 'k': 1, 'p': 1, 'r': 2, 'f': 1, 'm': 1, 'a': 1, 'c': 1, '」': 1, '活': 1, '動': 1, '發': 1, '表': 1, '了': 1}, {'經': 1, '典': 1, '帶': 1, ' ': 5, 'T': 1, 'o': 2, 'u': 1, 'c': 1, 'h': 2, 'I': 1, 'D': 1, '主': 1, '頁': 1, '鍵': 1, 'i': 1, 'P': 1, 'n': 1, 'e': 1, '樣': 1, '子': 1, '能': 1, '夠': 1, '再': 1, '戰': 1, '多': 1, '年': 1}, {'就': 1, '如': 1, '過': 1, '去': 1, '的': 1, '升': 1, '級': 1}, {'i': 1, 'P': 1, 'h': 1, 'o': 1, 'n': 1, 'e': 1, ' ': 3, 'S': 1, 'E': 1, '3': 1, '重': 1, '點': 1, '升': 1, '級': 1, '是': 1, '在': 1, '晶': 1, '片': 1, '的': 1, '部': 1, '分': 1}, {'這': 1, '會': 1, '是': 1, '跟': 1, '進': 1, '了': 1, '使': 1, '用': 1, ' ': 5, 'i': 1, 'P': 1, 'h': 1, 'o': 1, 'n': 1, 'e': 1, '1': 2, '3': 1, '系': 1, '列': 1, '同': 1, '級': 1, '的': 1, 'A': 1, '5': 1, '仿': 1, '生': 1, '晶': 1, '片': 1}, {'因': 1, '此': 1, '這': 1, '款': 1, '小': 1, '手': 1, '機': 1, '也': 1, '自': 1, '然': 1, '會': 1, '加': 1, '入': 1, ' ': 2, '5': 1, 'G': 1, '能': 1, '力': 1, '了': 1}, {'機': 1, '身': 1, '雖': 1, '然': 1, '同': 1, '樣': 1, '小': 1, '巧': 1}, {'不': 1, '過': 1, ' ': 2, 'A': 1, 'p': 2, 'l': 1, 'e': 1, '也': 1, '升': 1, '級': 1, '了': 1, '造': 1, '工': 1}, {'也': 1, '就': 1, '是': 1, '用': 1, '上': 1, '了': 1, '跟': 1, ' ': 3, 'i': 1, 'P': 1, 'h': 1, 'o': 1, 'n': 1, 'e': 1, '1': 1, '3': 1, '系': 1, '列': 1, '一': 1, '樣': 1, '的': 1, '前': 1, '、': 1, '後': 1, '玻': 1, '璃': 1}, {'有': 1, '著': 1, ' ': 2, 'I': 1, 'P': 1, '6': 1, '7': 1, '防': 1, '護': 1, '等': 1, '級': 1}, {'備': 1, '黑': 1, '、': 2, '紅': 1, '白': 1, '三': 1, '色': 1}, {'3': 1, ' ': 3, '月': 1, '1': 1, '8': 1, '日': 1, '正': 1, '式': 1, '上': 1, '場': 1}, {'定': 1, '價': 1, ' ': 10, '4': 2, '2': 1, '9': 6, '美': 1, '元': 2, '/': 3, 'H': 1, 'K': 1, '$': 2, '3': 3, ',': 3, '6': 1, 'N': 1, 'T': 1, '1': 1, '0': 2, '人': 1, '民': 1, '幣': 1}, {'台': 1, '灣': 1, '優': 1, '惠': 1, '資': 1, '訊': 1, '：': 1}]\n"
     ]
    }
   ],
   "source": [
    "# 測試詞頻\n",
    "# tf=詞頻(Term Frequency)\n",
    "\n",
    "s3 = SnowNLP(s2.sentences)\n",
    "print(s3.tf)     "
   ]
  },
  {
   "cell_type": "code",
   "execution_count": 19,
   "metadata": {},
   "outputs": [
    {
     "name": "stdout",
     "output_type": "stream",
     "text": [
      "{'一': 4.86599480426999, '如': 4.86599480426999, '大': 5.37989735354046, '家': 5.37989735354046, '所': 5.37989735354046, '期': 5.37989735354046, '待': 5.37989735354046, '的': 3.7518542532753245, '，': 3.4059479844207536, '4': 4.5264361454455875, '.': 5.37989735354046, '7': 4.86599480426999, ' ': 1.9849221883303292, '吋': 5.37989735354046, '小': 4.5264361454455875, '螢': 5.37989735354046, '幕': 5.37989735354046, 'i': 4.068249451439248, 'P': 3.7518542532753245, 'h': 3.898080099459133, 'o': 3.7518542532753245, 'n': 3.898080099459133, 'e': 3.4059479844207536, 'S': 4.86599480426999, 'E': 4.86599480426999, '（': 5.37989735354046, '第': 5.37989735354046, '三': 4.86599480426999, '代': 5.37989735354046, '）': 5.37989735354046, '正': 4.86599480426999, '式': 4.86599480426999, '在': 4.86599480426999, '今': 5.37989735354046, '天': 5.37989735354046, '「': 5.37989735354046, 'k': 5.37989735354046, 'p': 4.5264361454455875, 'r': 4.86599480426999, 'f': 5.37989735354046, 'm': 5.37989735354046, 'a': 5.37989735354046, 'c': 4.86599480426999, '」': 5.37989735354046, '活': 5.37989735354046, '動': 5.37989735354046, '發': 5.37989735354046, '表': 5.37989735354046, '了': 4.068249451439248, '經': 5.37989735354046, '典': 5.37989735354046, '帶': 5.37989735354046, 'T': 4.86599480426999, 'u': 5.37989735354046, 'I': 4.86599480426999, 'D': 5.37989735354046, '主': 5.37989735354046, '頁': 5.37989735354046, '鍵': 5.37989735354046, '樣': 4.5264361454455875, '子': 5.37989735354046, '能': 4.86599480426999, '夠': 5.37989735354046, '再': 5.37989735354046, '戰': 5.37989735354046, '多': 5.37989735354046, '年': 5.37989735354046, '。': 4.272025739459552, '就': 4.86599480426999, '過': 4.86599480426999, '去': 5.37989735354046, '升': 4.5264361454455875, '級': 4.068249451439248, '3': 3.7518542532753245, '重': 5.37989735354046, '點': 5.37989735354046, '是': 4.5264361454455875, '晶': 4.86599480426999, '片': 4.86599480426999, '部': 5.37989735354046, '分': 5.37989735354046, '這': 4.86599480426999, '會': 4.86599480426999, '跟': 4.86599480426999, '進': 5.37989735354046, '使': 5.37989735354046, '用': 4.86599480426999, '1': 4.068249451439248, '系': 4.86599480426999, '列': 4.86599480426999, '同': 4.86599480426999, 'A': 4.86599480426999, '5': 4.86599480426999, '仿': 5.37989735354046, '生': 5.37989735354046, '因': 5.37989735354046, '此': 5.37989735354046, '款': 5.37989735354046, '手': 5.37989735354046, '機': 4.86599480426999, '也': 4.5264361454455875, '自': 5.37989735354046, '然': 4.86599480426999, '加': 5.37989735354046, '入': 5.37989735354046, 'G': 5.37989735354046, '力': 5.37989735354046, '身': 5.37989735354046, '雖': 5.37989735354046, '巧': 5.37989735354046, '不': 5.37989735354046, 'l': 5.37989735354046, '造': 5.37989735354046, '工': 5.37989735354046, '上': 4.86599480426999, '前': 5.37989735354046, '、': 4.5264361454455875, '後': 5.37989735354046, '玻': 5.37989735354046, '璃': 5.37989735354046, '有': 5.37989735354046, '著': 5.37989735354046, '6': 4.86599480426999, '防': 5.37989735354046, '護': 5.37989735354046, '等': 5.37989735354046, '備': 5.37989735354046, '黑': 5.37989735354046, '紅': 5.37989735354046, '白': 5.37989735354046, '色': 5.37989735354046, '月': 5.37989735354046, '8': 5.37989735354046, '日': 5.37989735354046, '場': 5.37989735354046, '定': 5.37989735354046, '價': 5.37989735354046, '2': 5.37989735354046, '9': 3.898080099459133, '美': 5.37989735354046, '元': 4.86599480426999, '/': 4.5264361454455875, 'H': 5.37989735354046, 'K': 5.37989735354046, '$': 4.86599480426999, ',': 4.5264361454455875, 'N': 5.37989735354046, '0': 4.86599480426999, '人': 5.37989735354046, '民': 5.37989735354046, '幣': 5.37989735354046, '台': 5.37989735354046, '灣': 5.37989735354046, '優': 5.37989735354046, '惠': 5.37989735354046, '資': 5.37989735354046, '訊': 5.37989735354046, '：': 5.37989735354046}\n"
     ]
    }
   ],
   "source": [
    "# idf 意思是逆文字頻率指數(Inverse Document Frequency)\n",
    "print(s2.idf)"
   ]
  }
 ],
 "metadata": {
  "kernelspec": {
   "display_name": "Python 3",
   "language": "python",
   "name": "python3"
  },
  "language_info": {
   "codemirror_mode": {
    "name": "ipython",
    "version": 3
   },
   "file_extension": ".py",
   "mimetype": "text/x-python",
   "name": "python",
   "nbconvert_exporter": "python",
   "pygments_lexer": "ipython3",
   "version": "3.8.5"
  }
 },
 "nbformat": 4,
 "nbformat_minor": 4
}
