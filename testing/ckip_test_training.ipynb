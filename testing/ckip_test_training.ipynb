{
 "cells": [
  {
   "cell_type": "code",
   "execution_count": null,
   "metadata": {},
   "outputs": [],
   "source": [
    "# !pip install ckiptagger"
   ]
  },
  {
   "cell_type": "code",
   "execution_count": 418,
   "metadata": {
    "colab": {
     "base_uri": "https://localhost:8080/"
    },
    "id": "ziZDZAu2jxY1",
    "outputId": "71765382-04ed-47b7-a6db-2a0df41136a9"
   },
   "outputs": [],
   "source": [
    "# from ckiptagger import data_utils\n",
    "# data_utils.download_data_gdown(\"./\")"
   ]
  },
  {
   "cell_type": "code",
   "execution_count": 373,
   "metadata": {},
   "outputs": [],
   "source": [
    "import pandas as pd\n",
    "tbl_post = pd.read_csv('tbl_post.csv')"
   ]
  },
  {
   "cell_type": "code",
   "execution_count": 12,
   "metadata": {
    "id": "TNeebE6fERfv"
   },
   "outputs": [],
   "source": [
    "# 切詞用\n",
    "def strQ2B(ustring):\n",
    "    \"\"\"把字串全形轉半形\"\"\"\n",
    "    ss = []\n",
    "    for s in ustring:\n",
    "        rstring = \"\"\n",
    "        for uchar in s:\n",
    "            inside_code = ord(uchar)\n",
    "            if inside_code == 12288:  # 全形空格直接轉換\n",
    "                inside_code = 32\n",
    "            elif (inside_code >= 65281 and inside_code <= 65374):  # 全形字元（除空格）根據關係轉化\n",
    "                inside_code -= 65248\n",
    "            rstring += chr(inside_code)\n",
    "        ss.append(rstring)\n",
    "    return ''.join(ss)\n",
    "\n",
    "# 停用詞\n",
    "with open('stopwords_tc.txt', encoding='utf-8', mode='r') as f:\n",
    "    stop_words = []\n",
    "    for l in f:\n",
    "        stop_words.append(l.strip())\n"
   ]
  },
  {
   "cell_type": "code",
   "execution_count": 403,
   "metadata": {},
   "outputs": [
    {
     "data": {
      "text/html": [
       "<div>\n",
       "<style scoped>\n",
       "    .dataframe tbody tr th:only-of-type {\n",
       "        vertical-align: middle;\n",
       "    }\n",
       "\n",
       "    .dataframe tbody tr th {\n",
       "        vertical-align: top;\n",
       "    }\n",
       "\n",
       "    .dataframe thead th {\n",
       "        text-align: right;\n",
       "    }\n",
       "</style>\n",
       "<table border=\"1\" class=\"dataframe\">\n",
       "  <thead>\n",
       "    <tr style=\"text-align: right;\">\n",
       "      <th></th>\n",
       "      <th>product_id</th>\n",
       "      <th>content_cut</th>\n",
       "    </tr>\n",
       "  </thead>\n",
       "  <tbody>\n",
       "    <tr>\n",
       "      <th>0</th>\n",
       "      <td>1</td>\n",
       "      <td>[三月, 中, 買, SE3, 昨天, 發生, 次, 自動, 重啟, 手機, 電, 螢幕, ...</td>\n",
       "    </tr>\n",
       "    <tr>\n",
       "      <th>1</th>\n",
       "      <td>2</td>\n",
       "      <td>[['Engadget , 編輯, 團隊, 致力, 蒐羅, 優質, 產品, 優惠, 價格, ...</td>\n",
       "    </tr>\n",
       "    <tr>\n",
       "      <th>2</th>\n",
       "      <td>3</td>\n",
       "      <td>[['Engadget , 編輯, 團隊, 致力, 蒐羅, 優質, 產品, 優惠, 價格, ...</td>\n",
       "    </tr>\n",
       "    <tr>\n",
       "      <th>3</th>\n",
       "      <td>4</td>\n",
       "      <td>[一大早, 黑, 貓, 送貨,  '',  ', 收到, ['[, 簡評, ] iPhone...</td>\n",
       "    </tr>\n",
       "    <tr>\n",
       "      <th>4</th>\n",
       "      <td>5</td>\n",
       "      <td>[['Engadget , 編輯, 團隊, 致力, 蒐羅, 優質, 產品, 優惠, 價格, ...</td>\n",
       "    </tr>\n",
       "    <tr>\n",
       "      <th>...</th>\n",
       "      <td>...</td>\n",
       "      <td>...</td>\n",
       "    </tr>\n",
       "    <tr>\n",
       "      <th>69</th>\n",
       "      <td>957</td>\n",
       "      <td>[['POCO , 新, 電競, 旗艦機,  POCO F4,  GT , 囉, 場, 酣暢...</td>\n",
       "    </tr>\n",
       "    <tr>\n",
       "      <th>70</th>\n",
       "      <td>958</td>\n",
       "      <td>[Content, :───────────────────────────────────...</td>\n",
       "    </tr>\n",
       "    <tr>\n",
       "      <th>71</th>\n",
       "      <td>959</td>\n",
       "      <td>[請問, Redmi , 10, C, 投影, 電視, 感謝, 小弟, 最近, 買, 隻, ...</td>\n",
       "    </tr>\n",
       "    <tr>\n",
       "      <th>72</th>\n",
       "      <td>1066</td>\n",
       "      <td>[高階, 手機, 主相機, 搭載, 越來越, 感光, 元件, SHARP AQUOS R6,...</td>\n",
       "    </tr>\n",
       "    <tr>\n",
       "      <th>73</th>\n",
       "      <td>1067</td>\n",
       "      <td>[文, Tony, Sharp , Aquos , R7, 剛剛, 水貨, 抵, 港, 次,...</td>\n",
       "    </tr>\n",
       "  </tbody>\n",
       "</table>\n",
       "<p>74 rows × 2 columns</p>\n",
       "</div>"
      ],
      "text/plain": [
       "    product_id                                        content_cut\n",
       "0            1  [三月, 中, 買, SE3, 昨天, 發生, 次, 自動, 重啟, 手機, 電, 螢幕, ...\n",
       "1            2  [['Engadget , 編輯, 團隊, 致力, 蒐羅, 優質, 產品, 優惠, 價格, ...\n",
       "2            3  [['Engadget , 編輯, 團隊, 致力, 蒐羅, 優質, 產品, 優惠, 價格, ...\n",
       "3            4  [一大早, 黑, 貓, 送貨,  '',  ', 收到, ['[, 簡評, ] iPhone...\n",
       "4            5  [['Engadget , 編輯, 團隊, 致力, 蒐羅, 優質, 產品, 優惠, 價格, ...\n",
       "..         ...                                                ...\n",
       "69         957  [['POCO , 新, 電競, 旗艦機,  POCO F4,  GT , 囉, 場, 酣暢...\n",
       "70         958  [Content, :───────────────────────────────────...\n",
       "71         959  [請問, Redmi , 10, C, 投影, 電視, 感謝, 小弟, 最近, 買, 隻, ...\n",
       "72        1066  [高階, 手機, 主相機, 搭載, 越來越, 感光, 元件, SHARP AQUOS R6,...\n",
       "73        1067  [文, Tony, Sharp , Aquos , R7, 剛剛, 水貨, 抵, 港, 次,...\n",
       "\n",
       "[74 rows x 2 columns]"
      ]
     },
     "execution_count": 403,
     "metadata": {},
     "output_type": "execute_result"
    }
   ],
   "source": [
    "aaa = aaa.append(product_id_index_1066)\n",
    "aaa = aaa.reset_index(drop=True)\n",
    "aaa"
   ]
  },
  {
   "cell_type": "code",
   "execution_count": 416,
   "metadata": {},
   "outputs": [],
   "source": [
    "aaa.to_csv('Content_cut.csv', index=False, encoding=\"utf-8\")"
   ]
  },
  {
   "cell_type": "code",
   "execution_count": 406,
   "metadata": {},
   "outputs": [],
   "source": [
    "# 切詞\n",
    "from ckiptagger import WS, POS, NER\n",
    "import pandas as pd\n",
    "# max(tbl_post['product_id'].unique())==1067-product_id最大\n",
    "max_product_id = max(tbl_post['product_id'].unique())\n",
    "\n",
    "ws = WS(\"./data\")\n",
    "Content_cut = []\n",
    "\n",
    "for i in range(max_product_id+1):\n",
    "    # 同產品->product\n",
    "    product1 = tbl_post[tbl_post['product_id']==i]\n",
    "    product = product1.reset_index(drop=True)\n",
    "    per_word_cut = []\n",
    "    \n",
    "    for j in range(len(product)):\n",
    "        ws_results = ws([product['Content'][j]])\n",
    "        for word in ws_results[0]:\n",
    "            word = strQ2B(word)\n",
    "            if word in stop_words:\n",
    "                continue\n",
    "            elif (word==\" \" or word==\"「\" or word==\"」\" or word==\"['\" or word==\"']\"):\n",
    "                continue\n",
    "            else:\n",
    "                per_word_cut.append(word)\n",
    "    Content_cut.append([per_word_cut])\n",
    "    \n",
    "Content_cutting = pd.DataFrame(Content_cut)\n",
    "Content_cutting"
   ]
  },
  {
   "cell_type": "code",
   "execution_count": 417,
   "metadata": {},
   "outputs": [],
   "source": [
    "# 處理\n",
    "product_id_Index=[]\n",
    "max_product_id = max(tbl_post['product_id'].unique())\n",
    "for i in range(max_product_id):\n",
    "    i = i+1\n",
    "    product_id_Index.append(i)\n",
    "product_id_Index = pd.DataFrame(product_id_Index)\n",
    "product_id_Index['content_cut'] = Content_cut[0]\n",
    "product_id_Index.rename(columns = {0:'product_id'}, inplace = True)\n",
    "# 將該id沒有爬蟲內容者過濾\n",
    "product_id_Index_final = product_id_Index[product_id_Index.content_cut.str.len()>0].reset_index(drop=True)\n",
    "product_id_Index_final.to_csv('Content_cut.csv', index=False, encoding=\"utf-8\")"
   ]
  }
 ],
 "metadata": {
  "colab": {
   "collapsed_sections": [],
   "name": "ckip_test_training.ipynb",
   "provenance": []
  },
  "kernelspec": {
   "display_name": "Python 3",
   "language": "python",
   "name": "python3"
  },
  "language_info": {
   "codemirror_mode": {
    "name": "ipython",
    "version": 3
   },
   "file_extension": ".py",
   "mimetype": "text/x-python",
   "name": "python",
   "nbconvert_exporter": "python",
   "pygments_lexer": "ipython3",
   "version": "3.8.5"
  }
 },
 "nbformat": 4,
 "nbformat_minor": 1
}
