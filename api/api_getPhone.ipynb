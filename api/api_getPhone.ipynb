from flask import Flask, jsonify
from flask_cors import cross_origin
import pymysql
import json
import os
from dotenv import load_dotenv

APP_ROOT = os.path.join(os.path.dirname(__file__), '..')
dotenv_path = os.path.join(APP_ROOT, '.env')
load_dotenv(dotenv_path)

# 取得mysql的資料(.env裡的內容)
mysql_host = os.getenv("DB_HOST")
mysql_port = os.getenv("DB_PORT")
mysql_dbname = os.getenv("DB_DATABASE")
mysql_user = os.getenv("DB_USERNAME")
mysql_password = os.getenv("DB_PASSWORD")

connection = None
CONNECTION_TIMEOUT = 5000

print(mysql_host)
print(mysql_port)
print(mysql_dbname)
print(mysql_user)

# 連接資料庫
def connect_db():
    connection = pymysql.connect(host=mysql_host, user=mysql_user, port=int(mysql_port), password=mysql_password, database=mysql_dbname, connect_timeout=CONNECTION_TIMEOUT)
    print("connected to db")
    return connection

def get_cursor(connection): 
    connection.ping(reconnect=True)
    return connection.cursor()

app = Flask(__name__)

# 設定路由存放資料庫抓下來的json
@app.route('/phone')
@cross_origin()
def getPhoneName():
    connection = connect_db()
    cur = connection.cursor()
    getPhone = "SELECT phonename FROM product" # 從資料庫頭開始抓
    # getPhone = "SELECT phonename FROM product ORDER BY id DESC" # 從資料庫尾開始抓
    cur.execute(getPhone)
    phone = cur.fetchall()
    jsonResp = {
        'ph1': phone[0],
        'ph2': phone[1],
        'ph3': phone[2],
        'ph4': phone[3],
        'ph5': phone[4],
        'ph6': phone[5]
    }
    return jsonify(jsonResp)

if __name__ == '__main__':
    app.run(debug=False)