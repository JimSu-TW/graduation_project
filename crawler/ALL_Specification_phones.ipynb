{
 "cells": [
  {
   "cell_type": "code",
   "execution_count": 12,
   "metadata": {},
   "outputs": [],
   "source": [
    "import pandas as pd\n",
    "specification_table = pd.read_html(\"https://www.dcfever.com/phones/fullspecification.php?id=2924\")\n",
    "specification_df = specification_table[0]\n",
    "specification_df = specification_df.drop([2], axis=1).reset_index(drop=True)\n",
    "specification_df = specification_df.drop(specification_df[specification_df[0].str.contains('googletag')].index).reset_index(drop=True)"
   ]
  },
  {
   "cell_type": "code",
   "execution_count": 13,
   "metadata": {},
   "outputs": [],
   "source": [
    "file_name = \"spec_data/iphone13promax.csv\"\n",
    "specification_df.to_csv(file_name, index=False, encoding=\"utf-8\")"
   ]
  }
 ],
 "metadata": {
  "kernelspec": {
   "display_name": "Python 3",
   "language": "python",
   "name": "python3"
  },
  "language_info": {
   "codemirror_mode": {
    "name": "ipython",
    "version": 3
   },
   "file_extension": ".py",
   "mimetype": "text/x-python",
   "name": "python",
   "nbconvert_exporter": "python",
   "pygments_lexer": "ipython3",
   "version": "3.8.5"
  }
 },
 "nbformat": 4,
 "nbformat_minor": 4
}
