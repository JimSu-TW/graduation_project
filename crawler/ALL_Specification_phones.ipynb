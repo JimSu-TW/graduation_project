{
 "cells": [
  {
   "cell_type": "code",
   "execution_count": 8,
   "metadata": {},
   "outputs": [
    {
     "name": "stdout",
     "output_type": "stream",
     "text": [
      "done\n"
     ]
    }
   ],
   "source": [
    "import os\n",
    "import pandas as pd\n",
    "phone_df = pd.read_csv(\"../crawler_data/Phone_Data_20220802.csv\")\n",
    "for brand in phone_df.Brand_Name.unique():\n",
    "    temp_path = \"../spec_data/\"+brand\n",
    "    os.mkdir(temp_path)\n",
    "\n",
    "print(\"done\")"
   ]
  },
  {
   "cell_type": "code",
   "execution_count": 9,
   "metadata": {},
   "outputs": [],
   "source": [
    "import pandas as pd\n",
    "import time\n",
    "\n",
    "phone_df = pd.read_csv(\"../crawler_data/Phone_Data_20220802.csv\")\n",
    "for index, phone in phone_df.iterrows():\n",
    "    temp_phone_brand = phone[\"Brand_Name\"]\n",
    "    temp_phone_name = phone[\"Phone_Name\"]\n",
    "    temp_phone_link = phone[\"Link\"]\n",
    "    temp_phone_link= temp_phone_link.replace(\"specification\", \"fullspecification\")\n",
    "    specification_table = pd.read_html(temp_phone_link)\n",
    "    specification_df = specification_table[0]\n",
    "    specification_df = specification_df.drop([2], axis=1).reset_index(drop=True)\n",
    "    specification_df = specification_df.drop(specification_df[specification_df[0].str.contains('googletag')].index).reset_index(drop=True)\n",
    "    file_name = \"../spec_data/\"+temp_phone_brand+\"/\"+temp_phone_name+\".csv\"\n",
    "    specification_df.to_csv(file_name, index=False, encoding=\"utf-8\")\n",
    "    time.sleep(0.5)\n"
   ]
  }
 ],
 "metadata": {
  "kernelspec": {
   "display_name": "Python 3.9.13 ('test')",
   "language": "python",
   "name": "python3"
  },
  "language_info": {
   "codemirror_mode": {
    "name": "ipython",
    "version": 3
   },
   "file_extension": ".py",
   "mimetype": "text/x-python",
   "name": "python",
   "nbconvert_exporter": "python",
   "pygments_lexer": "ipython3",
   "version": "3.9.13"
  },
  "vscode": {
   "interpreter": {
    "hash": "092d0ea159525ecf02658390025c398c60e3a51ddc9accd656e90816b179f234"
   }
  }
 },
 "nbformat": 4,
 "nbformat_minor": 4
}
